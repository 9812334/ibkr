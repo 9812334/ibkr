{
 "cells": [
  {
   "cell_type": "code",
   "execution_count": 3,
   "metadata": {},
   "outputs": [
    {
     "name": "stderr",
     "output_type": "stream",
     "text": [
      "Library created, but couldn't enable sharding: no such command: 'enablesharding', full error: {'ok': 0.0, 'errmsg': \"no such command: 'enablesharding'\", 'code': 59, 'codeName': 'CommandNotFound'}. This is OK if you're not 'admin'\n"
     ]
    }
   ],
   "source": [
    "import pandas as pd\n",
    "from arctic import Arctic\n",
    "\n",
    "db = Arctic(\"localhost\")\n",
    "db.initialize_library(\"Bitcoin\")\n"
   ]
  },
  {
   "cell_type": "code",
   "execution_count": 5,
   "metadata": {},
   "outputs": [
    {
     "name": "stdout",
     "output_type": "stream",
     "text": [
      "<class 'pandas.core.frame.DataFrame'>\n",
      "DatetimeIndex: 452 entries, 2017-01-01 to 2018-03-28\n",
      "Data columns (total 8 columns):\n",
      " #   Column             Non-Null Count  Dtype  \n",
      "---  ------             --------------  -----  \n",
      " 0   Timestamp          452 non-null    object \n",
      " 1   Open               452 non-null    float64\n",
      " 2   High               452 non-null    float64\n",
      " 3   Low                452 non-null    float64\n",
      " 4   Close              452 non-null    float64\n",
      " 5   Volume (BTC)       452 non-null    float64\n",
      " 6   Volume (Currency)  452 non-null    float64\n",
      " 7   Weighted Price     452 non-null    float64\n",
      "dtypes: float64(7), object(1)\n",
      "memory usage: 31.8+ KB\n",
      "None\n"
     ]
    },
    {
     "name": "stderr",
     "output_type": "stream",
     "text": [
      "/tmp/ipykernel_889768/722449821.py:4: UserWarning: Could not infer format, so each element will be parsed individually, falling back to `dateutil`. To ensure parsing is consistent and as-expected, please specify a format.\n",
      "  df[\"timestamp\"] = pd.to_datetime(df[\"Timestamp\"])\n"
     ]
    }
   ],
   "source": [
    "df = pd.read_csv(\"bitcoin_data.csv\")\n",
    "\n",
    "df = pd.read_csv(\"bitcoin_data.csv\")\n",
    "df[\"timestamp\"] = pd.to_datetime(df[\"Timestamp\"])\n",
    "df.set_index(\"timestamp\", inplace=True)\n",
    "\n",
    "print(df.info())\n"
   ]
  },
  {
   "cell_type": "code",
   "execution_count": 7,
   "metadata": {},
   "outputs": [
    {
     "data": {
      "text/plain": [
       "VersionedItem(symbol=BTC,library=arctic.Bitcoin,data=<class 'NoneType'>,version=1,metadata=None,host=localhost)"
      ]
     },
     "execution_count": 7,
     "metadata": {},
     "output_type": "execute_result"
    }
   ],
   "source": [
    "bitcoin_library = db[\"Bitcoin\"]\n",
    "bitcoin_library.write(\"BTC\", df)\n"
   ]
  },
  {
   "cell_type": "code",
   "execution_count": 8,
   "metadata": {},
   "outputs": [
    {
     "name": "stdout",
     "output_type": "stream",
     "text": [
      "               Timestamp     Open     High      Low    Close  Volume (BTC)  \\\n",
      "timestamp                                                                    \n",
      "2017-01-01   1/1/17 0:00   966.34  1005.00   960.53   997.75       6850.59   \n",
      "2017-01-02   1/2/17 0:00   997.75  1032.00   990.01  1012.54       8167.38   \n",
      "2017-01-03   1/3/17 0:00  1011.44  1039.00   999.99  1035.24       9089.66   \n",
      "2017-01-04   1/4/17 0:00  1035.51  1139.89  1028.56  1114.92      21562.46   \n",
      "2017-01-05   1/5/17 0:00  1114.38  1136.72   885.41  1004.74      36018.86   \n",
      "...                  ...      ...      ...      ...      ...           ...   \n",
      "2018-03-24  3/24/18 0:00  8917.99  9020.00  8505.00  8547.00       9731.98   \n",
      "2018-03-25  3/25/18 0:00  8541.96  8680.00  8368.63  8453.90       9155.91   \n",
      "2018-03-26  3/26/18 0:00  8451.12  8500.00  7831.15  8149.66      17693.42   \n",
      "2018-03-27  3/27/18 0:00  8152.26  8211.62  7742.11  7791.70      12385.25   \n",
      "2018-03-28  3/28/18 0:00  7791.69  8104.98  7723.03  8039.86       4732.51   \n",
      "\n",
      "            Volume (Currency)  Weighted Price  \n",
      "timestamp                                      \n",
      "2017-01-01       6.764742e+06          987.47  \n",
      "2017-01-02       8.273577e+06         1013.00  \n",
      "2017-01-03       9.276500e+06         1020.56  \n",
      "2017-01-04       2.346964e+07         1088.45  \n",
      "2017-01-05       3.621140e+07         1005.35  \n",
      "...                       ...             ...  \n",
      "2018-03-24       8.581162e+07         8817.49  \n",
      "2018-03-25       7.801322e+07         8520.53  \n",
      "2018-03-26       1.452465e+08         8209.07  \n",
      "2018-03-27       9.848842e+07         7952.07  \n",
      "2018-03-28       3.749762e+07         7923.40  \n",
      "\n",
      "[452 rows x 8 columns]\n"
     ]
    }
   ],
   "source": [
    "new_df = bitcoin_library.read(\"BTC\").data\n",
    "print(new_df)\n"
   ]
  },
  {
   "cell_type": "code",
   "execution_count": 9,
   "metadata": {},
   "outputs": [
    {
     "name": "stdout",
     "output_type": "stream",
     "text": [
      "               Timestamp     Open     High      Low    Close  Volume (BTC)  \\\n",
      "timestamp                                                                    \n",
      "2017-01-01   1/1/17 0:00   966.34  1005.00   960.53   997.75       6850.59   \n",
      "2017-01-02   1/2/17 0:00   997.75  1032.00   990.01  1012.54       8167.38   \n",
      "2017-01-03   1/3/17 0:00  1011.44  1039.00   999.99  1035.24       9089.66   \n",
      "2017-01-04   1/4/17 0:00  1035.51  1139.89  1028.56  1114.92      21562.46   \n",
      "2017-01-05   1/5/17 0:00  1114.38  1136.72   885.41  1004.74      36018.86   \n",
      "...                  ...      ...      ...      ...      ...           ...   \n",
      "2017-06-26  6/26/17 0:00  2502.26  2550.03  2315.01  2421.22      22094.21   \n",
      "2017-06-27  6/27/17 0:00  2421.21  2565.00  2291.00  2565.00      19129.60   \n",
      "2017-06-28  6/28/17 0:00  2565.00  2593.00  2468.01  2559.90      12274.55   \n",
      "2017-06-29  6/29/17 0:00  2550.99  2594.78  2500.31  2541.59       8125.38   \n",
      "2017-06-30  6/30/17 0:00  2538.41  2564.58  2451.00  2465.49       8715.72   \n",
      "\n",
      "            Volume (Currency)  Weighted Price  \n",
      "timestamp                                      \n",
      "2017-01-01         6764742.06          987.47  \n",
      "2017-01-02         8273576.99         1013.00  \n",
      "2017-01-03         9276500.31         1020.56  \n",
      "2017-01-04        23469644.96         1088.45  \n",
      "2017-01-05        36211399.53         1005.35  \n",
      "...                       ...             ...  \n",
      "2017-06-26        54096000.65         2448.42  \n",
      "2017-06-27        45774590.05         2392.87  \n",
      "2017-06-28        31106035.77         2534.19  \n",
      "2017-06-29        20771078.34         2556.32  \n",
      "2017-06-30        21948643.03         2518.28  \n",
      "\n",
      "[181 rows x 8 columns]\n"
     ]
    }
   ],
   "source": [
    "from arctic.date import DateRange\n",
    "\n",
    "btc_range = DateRange(\"2017-01-01\", \"2017-06-30\")\n",
    "btc_df = bitcoin_library.read(\"BTC\", date_range=btc_range).data\n",
    "print(btc_df)\n"
   ]
  },
  {
   "cell_type": "code",
   "execution_count": 11,
   "metadata": {},
   "outputs": [
    {
     "name": "stdout",
     "output_type": "stream",
     "text": [
      "Function df_csv_read took 0.02 seconds\n",
      "Function df_arctic_read took 0.01 seconds\n"
     ]
    }
   ],
   "source": [
    "from functools import wraps\n",
    "import time\n",
    "\n",
    "\n",
    "def timing_decorator(func):\n",
    "    @wraps(func)\n",
    "    def wrapper(*args, **kwargs):\n",
    "        start_time = time.time()\n",
    "        result = func(*args, **kwargs)\n",
    "        end_time = time.time()\n",
    "        print(f\"Function {func.__name__} took {end_time - start_time:.2f} seconds\")\n",
    "        return result\n",
    "\n",
    "    return wrapper\n",
    "\n",
    "\n",
    "@timing_decorator\n",
    "def df_csv_read():\n",
    "    df = pd.read_csv(\"bitcoin_data.csv\")\n",
    "    return df  # Return the DataFrame\n",
    "\n",
    "\n",
    "@timing_decorator\n",
    "def df_arctic_read():\n",
    "    df = bitcoin_library.read(\"BTC\").data\n",
    "    return df  # Return the DataFrame\n",
    "\n",
    "\n",
    "csv_df = df_csv_read()\n",
    "arctic_df = df_arctic_read()\n"
   ]
  }
 ],
 "metadata": {
  "kernelspec": {
   "display_name": ".venv",
   "language": "python",
   "name": "python3"
  },
  "language_info": {
   "codemirror_mode": {
    "name": "ipython",
    "version": 3
   },
   "file_extension": ".py",
   "mimetype": "text/x-python",
   "name": "python",
   "nbconvert_exporter": "python",
   "pygments_lexer": "ipython3",
   "version": "3.12.2"
  }
 },
 "nbformat": 4,
 "nbformat_minor": 2
}
