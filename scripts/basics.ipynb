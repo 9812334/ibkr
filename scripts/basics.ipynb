{
 "cells": [
  {
   "cell_type": "markdown",
   "metadata": {},
   "source": [
    "# Basics\n",
    "\n",
    "Let's first take a look at what's inside the ``ib_async`` package:"
   ]
  },
  {
   "cell_type": "code",
   "execution_count": 1,
   "metadata": {},
   "outputs": [
    {
     "name": "stdout",
     "output_type": "stream",
     "text": [
      "['Event', 'util', 'Client', 'Bag', 'Bond', 'CFD', 'ComboLeg', 'Commodity', 'ContFuture', 'Contract', 'ContractDescription', 'ContractDetails', 'Crypto', 'DeltaNeutralContract', 'Forex', 'Future', 'FuturesOption', 'Index', 'MutualFund', 'Option', 'ScanData', 'Stock', 'TagValue', 'Warrant', 'FlexError', 'FlexReport', 'IB', 'IBC', 'Watchdog', 'AccountValue', 'BarData', 'BarDataList', 'CommissionReport', 'ConnectionStats', 'DOMLevel', 'DepthMktDataDescription', 'Dividends', 'Execution', 'ExecutionFilter', 'FamilyCode', 'Fill', 'FundamentalRatios', 'HistogramData', 'HistoricalNews', 'HistoricalTick', 'HistoricalTickBidAsk', 'HistoricalTickLast', 'HistoricalSchedule', 'HistoricalSession', 'MktDepthData', 'NewsArticle', 'NewsBulletin', 'NewsProvider', 'NewsTick', 'OptionChain', 'OptionComputation', 'PnL', 'PnLSingle', 'PortfolioItem', 'Position', 'PriceIncrement', 'RealTimeBar', 'RealTimeBarList', 'ScanDataList', 'ScannerSubscription', 'SmartComponent', 'SoftDollarTier', 'TickAttrib', 'TickAttribBidAsk', 'TickAttribLast', 'TickByTickAllLast', 'WshEventData', 'TickByTickBidAsk', 'TickByTickMidPoint', 'TickData', 'TradeLogEntry', 'BracketOrder', 'ExecutionCondition', 'LimitOrder', 'MarginCondition', 'MarketOrder', 'Order', 'OrderComboLeg', 'OrderCondition', 'OrderState', 'OrderStatus', 'PercentChangeCondition', 'PriceCondition', 'StopLimitOrder', 'StopOrder', 'TimeCondition', 'Trade', 'VolumeCondition', 'Ticker', '__version__', '__version_info__', 'RequestError', 'Wrapper']\n"
     ]
    }
   ],
   "source": [
    "import ib_async\n",
    "\n",
    "print(ib_async.__all__)\n",
    "–\n"
   ]
  },
  {
   "cell_type": "markdown",
   "metadata": {},
   "source": [
    "### Importing\n",
    "The following two lines are used at the top of all notebooks. The first line imports everything and the second\n",
    "starts an event loop to keep the notebook live updated:"
   ]
  },
  {
   "cell_type": "code",
   "execution_count": 3,
   "metadata": {},
   "outputs": [],
   "source": [
    "from ib_async import *\n",
    "\n",
    "util.startLoop()\n"
   ]
  },
  {
   "cell_type": "markdown",
   "metadata": {},
   "source": [
    "*Note that startLoop() only works in notebooks, not in regular Python programs.*"
   ]
  },
  {
   "cell_type": "markdown",
   "metadata": {},
   "source": [
    "### Connecting\n",
    "The main player of the whole package is the \"IB\" class. Let's create an IB instance and connect to a running TWS/IBG application:"
   ]
  },
  {
   "cell_type": "code",
   "execution_count": 4,
   "metadata": {
    "scrolled": true
   },
   "outputs": [
    {
     "data": {
      "text/plain": [
       "<IB connected to 127.0.0.1:4001 clientId=1101>"
      ]
     },
     "execution_count": 4,
     "metadata": {},
     "output_type": "execute_result"
    }
   ],
   "source": [
    "ib = IB()\n",
    "ib.connect(\"127.0.0.1\", 4001, clientId=1101)\n"
   ]
  },
  {
   "cell_type": "markdown",
   "metadata": {},
   "source": [
    "If the connection failed, then verify that the application has the API port enabled and double-check the hostname and port. For IB Gateway the default port is 4002. Make sure the clientId is not already in use.\n",
    "\n",
    "If the connection succeeded, then ib will be synchronized with TWS/IBG. The \"current state\" is now available via methods such as ib.positions(), ib.trades(), ib.openTrades(), ib.accountValues() or ib.tickers(). Let's list the current positions:"
   ]
  },
  {
   "cell_type": "code",
   "execution_count": 5,
   "metadata": {},
   "outputs": [
    {
     "data": {
      "text/html": [
       "<div>\n",
       "<style scoped>\n",
       "    .dataframe tbody tr th:only-of-type {\n",
       "        vertical-align: middle;\n",
       "    }\n",
       "\n",
       "    .dataframe tbody tr th {\n",
       "        vertical-align: top;\n",
       "    }\n",
       "\n",
       "    .dataframe thead th {\n",
       "        text-align: right;\n",
       "    }\n",
       "</style>\n",
       "<table border=\"1\" class=\"dataframe\">\n",
       "  <thead>\n",
       "    <tr style=\"text-align: right;\">\n",
       "      <th></th>\n",
       "      <th>account</th>\n",
       "      <th>tag</th>\n",
       "      <th>value</th>\n",
       "      <th>currency</th>\n",
       "      <th>modelCode</th>\n",
       "    </tr>\n",
       "  </thead>\n",
       "  <tbody>\n",
       "    <tr>\n",
       "      <th>0</th>\n",
       "      <td>U10394496</td>\n",
       "      <td>AccountCode</td>\n",
       "      <td>U10394496</td>\n",
       "      <td></td>\n",
       "      <td></td>\n",
       "    </tr>\n",
       "    <tr>\n",
       "      <th>1</th>\n",
       "      <td>U10394496</td>\n",
       "      <td>AccountReady</td>\n",
       "      <td>true</td>\n",
       "      <td></td>\n",
       "      <td></td>\n",
       "    </tr>\n",
       "    <tr>\n",
       "      <th>2</th>\n",
       "      <td>U10394496</td>\n",
       "      <td>AccountType</td>\n",
       "      <td>INDIVIDUAL</td>\n",
       "      <td></td>\n",
       "      <td></td>\n",
       "    </tr>\n",
       "    <tr>\n",
       "      <th>3</th>\n",
       "      <td>U10394496</td>\n",
       "      <td>ColumnPrio-C</td>\n",
       "      <td>2</td>\n",
       "      <td></td>\n",
       "      <td></td>\n",
       "    </tr>\n",
       "    <tr>\n",
       "      <th>4</th>\n",
       "      <td>U10394496</td>\n",
       "      <td>ColumnPrio-P</td>\n",
       "      <td>5</td>\n",
       "      <td></td>\n",
       "      <td></td>\n",
       "    </tr>\n",
       "    <tr>\n",
       "      <th>...</th>\n",
       "      <td>...</td>\n",
       "      <td>...</td>\n",
       "      <td>...</td>\n",
       "      <td>...</td>\n",
       "      <td>...</td>\n",
       "    </tr>\n",
       "    <tr>\n",
       "      <th>177</th>\n",
       "      <td>U10394496</td>\n",
       "      <td>TotalCashBalance</td>\n",
       "      <td>215752.36</td>\n",
       "      <td>USD</td>\n",
       "      <td></td>\n",
       "    </tr>\n",
       "    <tr>\n",
       "      <th>178</th>\n",
       "      <td>U10394496</td>\n",
       "      <td>UnrealizedPnL</td>\n",
       "      <td>-343.16</td>\n",
       "      <td>BASE</td>\n",
       "      <td></td>\n",
       "    </tr>\n",
       "    <tr>\n",
       "      <th>179</th>\n",
       "      <td>U10394496</td>\n",
       "      <td>UnrealizedPnL</td>\n",
       "      <td>-343.16</td>\n",
       "      <td>USD</td>\n",
       "      <td></td>\n",
       "    </tr>\n",
       "    <tr>\n",
       "      <th>180</th>\n",
       "      <td>U10394496</td>\n",
       "      <td>WarrantValue</td>\n",
       "      <td>0.00</td>\n",
       "      <td>BASE</td>\n",
       "      <td></td>\n",
       "    </tr>\n",
       "    <tr>\n",
       "      <th>181</th>\n",
       "      <td>U10394496</td>\n",
       "      <td>WarrantValue</td>\n",
       "      <td>0.00</td>\n",
       "      <td>USD</td>\n",
       "      <td></td>\n",
       "    </tr>\n",
       "  </tbody>\n",
       "</table>\n",
       "<p>182 rows × 5 columns</p>\n",
       "</div>"
      ],
      "text/plain": [
       "       account               tag       value currency modelCode\n",
       "0    U10394496       AccountCode   U10394496                   \n",
       "1    U10394496      AccountReady        true                   \n",
       "2    U10394496       AccountType  INDIVIDUAL                   \n",
       "3    U10394496      ColumnPrio-C           2                   \n",
       "4    U10394496      ColumnPrio-P           5                   \n",
       "..         ...               ...         ...      ...       ...\n",
       "177  U10394496  TotalCashBalance   215752.36      USD          \n",
       "178  U10394496     UnrealizedPnL     -343.16     BASE          \n",
       "179  U10394496     UnrealizedPnL     -343.16      USD          \n",
       "180  U10394496      WarrantValue        0.00     BASE          \n",
       "181  U10394496      WarrantValue        0.00      USD          \n",
       "\n",
       "[182 rows x 5 columns]"
      ]
     },
     "execution_count": 5,
     "metadata": {},
     "output_type": "execute_result"
    }
   ],
   "source": [
    "util.df(ib.accountValues(account=\"U10394496\"))\n"
   ]
  },
  {
   "cell_type": "code",
   "execution_count": 8,
   "metadata": {},
   "outputs": [
    {
     "data": {
      "text/plain": [
       "[Position(account='U2340948', contract=Stock(conId=4762, symbol='BA', exchange='NYSE', currency='USD', localSymbol='BA', tradingClass='BA'), position=254.0, avgCost=203.21112205),\n",
       " Position(account='U10394496', contract=Option(conId=637079300, symbol='HYG', lastTradeDateOrContractMonth='20240621', strike=73.0, right='P', multiplier='100', currency='USD', localSymbol='HYG   240621P00073000', tradingClass='HYG'), position=50.0, avgCost=12.44685),\n",
       " Position(account='U10394496', contract=Option(conId=682674010, symbol='AAPL', lastTradeDateOrContractMonth='20241018', strike=150.0, right='P', multiplier='100', currency='USD', localSymbol='AAPL  241018P00150000', tradingClass='AAPL'), position=2.0, avgCost=244.69685),\n",
       " Position(account='U10394496', contract=Option(conId=657576926, symbol='QQQ', lastTradeDateOrContractMonth='20240930', strike=376.78, right='P', multiplier='100', currency='USD', localSymbol='QQQ   240930P00376780', tradingClass='QQQ'), position=1.0, avgCost=501.03685),\n",
       " Position(account='U10394496', contract=Option(conId=669333316, symbol='NVDA', lastTradeDateOrContractMonth='20240719', strike=555.0, right='P', multiplier='100', currency='USD', localSymbol='NVDA  240719P00555000', tradingClass='NVDA'), position=1.0, avgCost=493.0494),\n",
       " Position(account='U10394496', contract=Option(conId=689749183, symbol='LLY', lastTradeDateOrContractMonth='20240816', strike=620.0, right='P', multiplier='100', currency='USD', localSymbol='LLY   240816P00620000', tradingClass='LLY'), position=1.0, avgCost=481.0469),\n",
       " Position(account='U10394496', contract=Option(conId=692563619, symbol='TSLA', lastTradeDateOrContractMonth='20240503', strike=180.0, right='C', multiplier='100', currency='USD', localSymbol='TSLA  240503C00180000', tradingClass='TSLA'), position=-1.0, avgCost=190.538824),\n",
       " Position(account='U10394496', contract=Option(conId=613471094, symbol='GOOGL', lastTradeDateOrContractMonth='20240920', strike=120.0, right='P', multiplier='100', currency='USD', localSymbol='GOOGL 240920P00120000', tradingClass='GOOGL'), position=10.0, avgCost=51.44685),\n",
       " Position(account='U2340948', contract=Option(conId=699423951, symbol='BA', lastTradeDateOrContractMonth='20240607', strike=190.0, right='C', multiplier='100', currency='USD', localSymbol='BA    240607C00190000', tradingClass='BA'), position=0.0, avgCost=0.0),\n",
       " Position(account='U10394496', contract=Option(conId=699536227, symbol='PINS', lastTradeDateOrContractMonth='20240607', strike=33.0, right='P', multiplier='100', currency='USD', localSymbol='PINS  240607P00033000', tradingClass='PINS'), position=40.0, avgCost=13.44685),\n",
       " Position(account='U10394496', contract=Future(conId=620730920, symbol='NQ', lastTradeDateOrContractMonth='20240621', multiplier='20', currency='USD', localSymbol='NQM4', tradingClass='NQ'), position=-3.0, avgCost=354926.16914065),\n",
       " Position(account='U2340948', contract=Stock(conId=47486780, symbol='EDV', exchange='ARCA', currency='USD', localSymbol='EDV', tradingClass='EDV'), position=650.0, avgCost=77.7080769),\n",
       " Position(account='U10394496', contract=Option(conId=699532596, symbol='QQQ', lastTradeDateOrContractMonth='20240607', strike=400.0, right='P', multiplier='100', currency='USD', localSymbol='QQQ   240607P00400000', tradingClass='QQQ'), position=2.0, avgCost=207.69685),\n",
       " Position(account='U10394496', contract=Option(conId=682677111, symbol='AMZN', lastTradeDateOrContractMonth='20241018', strike=130.0, right='P', multiplier='100', currency='USD', localSymbol='AMZN  241018P00130000', tradingClass='AMZN'), position=4.0, avgCost=115.68685),\n",
       " Position(account='U2340948', contract=Stock(conId=229726228, symbol='RSX', exchange='VALUE', currency='USD', localSymbol='RSX', tradingClass='RSX'), position=100.0, avgCost=6.889977)]"
      ]
     },
     "execution_count": 8,
     "metadata": {},
     "output_type": "execute_result"
    }
   ],
   "source": [
    "ib.positions()\n"
   ]
  },
  {
   "cell_type": "code",
   "execution_count": 12,
   "metadata": {},
   "outputs": [
    {
     "data": {
      "text/plain": [
       "[[{'contract': {'Future': {'secType': 'FUT',\n",
       "     'conId': 620730920,\n",
       "     'symbol': 'NQ',\n",
       "     'lastTradeDateOrContractMonth': '20240621',\n",
       "     'right': '?',\n",
       "     'multiplier': '20',\n",
       "     'exchange': 'CME',\n",
       "     'currency': 'USD',\n",
       "     'localSymbol': 'NQM4',\n",
       "     'tradingClass': 'NQ'}},\n",
       "   'execution': {'Execution': {'execId': '0000d94c.66341896.01.01',\n",
       "     'time': '2024-05-03T07:42:05+00:00',\n",
       "     'acctNumber': 'U10394496',\n",
       "     'exchange': 'CME',\n",
       "     'side': 'SLD',\n",
       "     'shares': 1.0,\n",
       "     'price': 17726.25,\n",
       "     'permId': 1872456553,\n",
       "     'clientId': 22,\n",
       "     'orderId': 209,\n",
       "     'cumQty': 1.0,\n",
       "     'avgPrice': 17726.25,\n",
       "     'lastLiquidity': 1}},\n",
       "   'commissionReport': {'CommissionReport': {'execId': '0000d94c.66341896.01.01',\n",
       "     'commission': 2.2,\n",
       "     'currency': 'USD'}},\n",
       "   'time': '2024-05-03T07:42:05+00:00'}]]"
      ]
     },
     "execution_count": 12,
     "metadata": {},
     "output_type": "execute_result"
    }
   ],
   "source": [
    "util.tree(fills)\n"
   ]
  },
  {
   "cell_type": "code",
   "execution_count": 6,
   "metadata": {},
   "outputs": [
    {
     "data": {
      "text/html": [
       "<div>\n",
       "<style scoped>\n",
       "    .dataframe tbody tr th:only-of-type {\n",
       "        vertical-align: middle;\n",
       "    }\n",
       "\n",
       "    .dataframe tbody tr th {\n",
       "        vertical-align: top;\n",
       "    }\n",
       "\n",
       "    .dataframe thead th {\n",
       "        text-align: right;\n",
       "    }\n",
       "</style>\n",
       "<table border=\"1\" class=\"dataframe\">\n",
       "  <thead>\n",
       "    <tr style=\"text-align: right;\">\n",
       "      <th></th>\n",
       "      <th>execId</th>\n",
       "      <th>time</th>\n",
       "      <th>acctNumber</th>\n",
       "      <th>exchange</th>\n",
       "      <th>side</th>\n",
       "      <th>shares</th>\n",
       "      <th>price</th>\n",
       "      <th>permId</th>\n",
       "      <th>clientId</th>\n",
       "      <th>orderId</th>\n",
       "      <th>liquidation</th>\n",
       "      <th>cumQty</th>\n",
       "      <th>avgPrice</th>\n",
       "      <th>orderRef</th>\n",
       "      <th>evRule</th>\n",
       "      <th>evMultiplier</th>\n",
       "      <th>modelCode</th>\n",
       "      <th>lastLiquidity</th>\n",
       "      <th>pendingPriceRevision</th>\n",
       "    </tr>\n",
       "  </thead>\n",
       "  <tbody>\n",
       "    <tr>\n",
       "      <th>0</th>\n",
       "      <td>0000d94c.66341896.01.01</td>\n",
       "      <td>2024-05-03 07:42:05+00:00</td>\n",
       "      <td>U10394496</td>\n",
       "      <td>CME</td>\n",
       "      <td>SLD</td>\n",
       "      <td>1.0</td>\n",
       "      <td>17726.25</td>\n",
       "      <td>1872456553</td>\n",
       "      <td>22</td>\n",
       "      <td>209</td>\n",
       "      <td>0</td>\n",
       "      <td>1.0</td>\n",
       "      <td>17726.25</td>\n",
       "      <td></td>\n",
       "      <td></td>\n",
       "      <td>0.0</td>\n",
       "      <td></td>\n",
       "      <td>1</td>\n",
       "      <td>False</td>\n",
       "    </tr>\n",
       "  </tbody>\n",
       "</table>\n",
       "</div>"
      ],
      "text/plain": [
       "                    execId                      time acctNumber exchange side  \\\n",
       "0  0000d94c.66341896.01.01 2024-05-03 07:42:05+00:00  U10394496      CME  SLD   \n",
       "\n",
       "   shares     price      permId  clientId  orderId  liquidation  cumQty  \\\n",
       "0     1.0  17726.25  1872456553        22      209            0     1.0   \n",
       "\n",
       "   avgPrice orderRef evRule  evMultiplier modelCode  lastLiquidity  \\\n",
       "0  17726.25                           0.0                        1   \n",
       "\n",
       "   pendingPriceRevision  \n",
       "0                 False  "
      ]
     },
     "execution_count": 6,
     "metadata": {},
     "output_type": "execute_result"
    }
   ],
   "source": [
    "fills = [t.fills for t in ib.trades() if t.fills != []]\n",
    "executions = [f[0].execution for f in fills]\n",
    "util.df(executions)\n"
   ]
  },
  {
   "cell_type": "code",
   "execution_count": 11,
   "metadata": {},
   "outputs": [
    {
     "data": {
      "text/plain": [
       "[Fill(contract=Future(conId=620730920, symbol='NQ', lastTradeDateOrContractMonth='20240621', right='?', multiplier='20', exchange='CME', currency='USD', localSymbol='NQM4', tradingClass='NQ'), execution=Execution(execId='0000d94c.66341896.01.01', time=datetime.datetime(2024, 5, 3, 7, 42, 5, tzinfo=datetime.timezone.utc), acctNumber='U10394496', exchange='CME', side='SLD', shares=1.0, price=17726.25, permId=1872456553, clientId=22, orderId=209, liquidation=0, cumQty=1.0, avgPrice=17726.25, orderRef='', evRule='', evMultiplier=0.0, modelCode='', lastLiquidity=1, pendingPriceRevision=False), commissionReport=CommissionReport(execId='0000d94c.66341896.01.01', commission=2.2, currency='USD', realizedPNL=0.0, yield_=0.0, yieldRedemptionDate=0), time=datetime.datetime(2024, 5, 3, 7, 42, 5, tzinfo=datetime.timezone.utc))]"
      ]
     },
     "execution_count": 11,
     "metadata": {},
     "output_type": "execute_result"
    }
   ],
   "source": [
    "fills[0]\n"
   ]
  },
  {
   "cell_type": "code",
   "execution_count": null,
   "metadata": {},
   "outputs": [],
   "source": [
    "ib.positions()\n"
   ]
  },
  {
   "cell_type": "code",
   "execution_count": null,
   "metadata": {},
   "outputs": [],
   "source": [
    "ib.accountValues()\n"
   ]
  },
  {
   "cell_type": "markdown",
   "metadata": {},
   "source": [
    "Or filter the account values to get the liquidation value:"
   ]
  },
  {
   "cell_type": "code",
   "execution_count": null,
   "metadata": {},
   "outputs": [],
   "source": [
    "ib.accountValues(account=\"U10394496\")\n"
   ]
  },
  {
   "cell_type": "code",
   "execution_count": null,
   "metadata": {},
   "outputs": [],
   "source": [
    "[\n",
    "    v\n",
    "    for v in ib.accountValues()\n",
    "    if v.tag == \"NetLiquidationByCurrency\" and v.currency == \"BASE\"\n",
    "]\n"
   ]
  },
  {
   "cell_type": "markdown",
   "metadata": {},
   "source": [
    "The \"current state\" will automatically be kept in sync with TWS/IBG. So an order fill will be added as soon as it is reported, or account values will be updated as soon as they change in TWS."
   ]
  },
  {
   "cell_type": "markdown",
   "metadata": {},
   "source": [
    "### Contracts\n",
    "\n",
    "Contracts can be specified in different ways:\n",
    "* The ibapi way, by creating an empty Contract object and setting its attributes one by one;\n",
    "* By using Contract and giving the attributes as keyword argument;\n",
    "* By using the specialized Stock, Option, Future, Forex, Index, CFD, Commodity,\n",
    "  Bond, FuturesOption, MutualFund or Warrant contracts.\n",
    "\n",
    "Some examples:"
   ]
  },
  {
   "cell_type": "code",
   "execution_count": 1,
   "metadata": {},
   "outputs": [
    {
     "ename": "NameError",
     "evalue": "name 'Contract' is not defined",
     "output_type": "error",
     "traceback": [
      "\u001b[1;31m---------------------------------------------------------------------------\u001b[0m",
      "\u001b[1;31mNameError\u001b[0m                                 Traceback (most recent call last)",
      "Cell \u001b[1;32mIn[1], line 1\u001b[0m\n\u001b[1;32m----> 1\u001b[0m \u001b[43mContract\u001b[49m(conId\u001b[38;5;241m=\u001b[39m\u001b[38;5;241m270639\u001b[39m)\n\u001b[0;32m      2\u001b[0m Stock(\u001b[38;5;124m\"\u001b[39m\u001b[38;5;124mAMD\u001b[39m\u001b[38;5;124m\"\u001b[39m, \u001b[38;5;124m\"\u001b[39m\u001b[38;5;124mSMART\u001b[39m\u001b[38;5;124m\"\u001b[39m, \u001b[38;5;124m\"\u001b[39m\u001b[38;5;124mUSD\u001b[39m\u001b[38;5;124m\"\u001b[39m)\n\u001b[0;32m      3\u001b[0m Stock(\u001b[38;5;124m\"\u001b[39m\u001b[38;5;124mINTC\u001b[39m\u001b[38;5;124m\"\u001b[39m, \u001b[38;5;124m\"\u001b[39m\u001b[38;5;124mSMART\u001b[39m\u001b[38;5;124m\"\u001b[39m, \u001b[38;5;124m\"\u001b[39m\u001b[38;5;124mUSD\u001b[39m\u001b[38;5;124m\"\u001b[39m, primaryExchange\u001b[38;5;241m=\u001b[39m\u001b[38;5;124m\"\u001b[39m\u001b[38;5;124mNASDAQ\u001b[39m\u001b[38;5;124m\"\u001b[39m)\n",
      "\u001b[1;31mNameError\u001b[0m: name 'Contract' is not defined"
     ]
    }
   ],
   "source": [
    "Contract(conId=270639)\n",
    "Stock(\"AMD\", \"SMART\", \"USD\")\n",
    "Stock(\"INTC\", \"SMART\", \"USD\", primaryExchange=\"NASDAQ\")\n",
    "Forex(\"EURUSD\")\n",
    "CFD(\"IBUS30\")\n",
    "Future(\"ES\", \"20180921\", \"GLOBEX\")\n",
    "Option(\"SPY\", \"20170721\", 240, \"C\", \"SMART\")\n",
    "Bond(secIdType=\"ISIN\", secId=\"US03076KAA60\")\n"
   ]
  },
  {
   "cell_type": "markdown",
   "metadata": {},
   "source": [
    "### Sending a request\n",
    "\n",
    "The IB class has nearly all request methods that the IB API offers. The methods that return a result will block until finished and then return the result. Take for example reqContractDetails:"
   ]
  },
  {
   "cell_type": "code",
   "execution_count": null,
   "metadata": {},
   "outputs": [],
   "source": [
    "contract = Stock(\"TSLA\", \"SMART\", \"USD\")\n",
    "ib.reqContractDetails(contract)\n"
   ]
  },
  {
   "cell_type": "markdown",
   "metadata": {},
   "source": [
    "### Current state vs request\n",
    "\n",
    "Doing a request involves network traffic going up and down and can take considerable time. The current state on the other hand is always immediately available. So it is preferable to use the current state methods over requests. For example, use ``ib.openOrders()`` in preference over ``ib.reqOpenOrders()``, or ``ib.positions()`` over ``ib.reqPositions()``, etc:"
   ]
  },
  {
   "cell_type": "code",
   "execution_count": null,
   "metadata": {},
   "outputs": [],
   "source": [
    "%time l = ib.positions()\n"
   ]
  },
  {
   "cell_type": "code",
   "execution_count": null,
   "metadata": {},
   "outputs": [],
   "source": [
    "%time l = ib.reqPositions()\n"
   ]
  },
  {
   "cell_type": "markdown",
   "metadata": {},
   "source": [
    "### Logging\n",
    "\n",
    "The following will put log messages of INFO and higher level under the current active cell:"
   ]
  },
  {
   "cell_type": "code",
   "execution_count": null,
   "metadata": {},
   "outputs": [],
   "source": [
    "util.logToConsole()\n"
   ]
  },
  {
   "cell_type": "markdown",
   "metadata": {},
   "source": [
    "To see all debug messages (including network traffic):"
   ]
  },
  {
   "cell_type": "code",
   "execution_count": null,
   "metadata": {},
   "outputs": [],
   "source": [
    "import logging\n",
    "\n",
    "util.logToConsole(logging.DEBUG)\n"
   ]
  },
  {
   "cell_type": "markdown",
   "metadata": {},
   "source": [
    "### Disconnecting\n",
    "\n",
    "The following will disconnect ``ib`` and clear all its state:"
   ]
  },
  {
   "cell_type": "code",
   "execution_count": null,
   "metadata": {},
   "outputs": [],
   "source": [
    "ib.disconnect()\n"
   ]
  }
 ],
 "metadata": {
  "kernelspec": {
   "display_name": "Python 3",
   "language": "python",
   "name": "python3"
  },
  "language_info": {
   "codemirror_mode": {
    "name": "ipython",
    "version": 3
   },
   "file_extension": ".py",
   "mimetype": "text/x-python",
   "name": "python",
   "nbconvert_exporter": "python",
   "pygments_lexer": "ipython3",
   "version": "3.12.2"
  }
 },
 "nbformat": 4,
 "nbformat_minor": 4
}
