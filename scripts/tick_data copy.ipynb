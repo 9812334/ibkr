{
 "cells": [
  {
   "cell_type": "markdown",
   "metadata": {},
   "source": [
    "# Tick data\n",
    "\n",
    "For optimum results this notebook should be run during the Forex trading session."
   ]
  },
  {
   "cell_type": "code",
   "execution_count": null,
   "metadata": {},
   "outputs": [
    {
     "data": {
      "text/plain": [
       "<IB connected to 127.0.0.1:4001 clientId=15>"
      ]
     },
     "execution_count": 1,
     "metadata": {},
     "output_type": "execute_result"
    },
    {
     "name": "stderr",
     "output_type": "stream",
     "text": [
      "Error 317, reqId 6: Market depth data has been RESET. Please empty deep book contents before applying any new entries., contract: Contract(secType='FUT', conId=620730920, symbol='NQ', lastTradeDateOrContractMonth='20240621', multiplier='20', exchange='CME', currency='USD', localSymbol='NQM4', tradingClass='NQ')\n",
      "Error 1100, reqId -1: Connectivity between IB and Trader Workstation has been lost.\n",
      "Error 317, reqId 6: Market depth data has been RESET. Please empty deep book contents before applying any new entries., contract: Contract(secType='FUT', conId=620730920, symbol='NQ', lastTradeDateOrContractMonth='20240621', multiplier='20', exchange='CME', currency='USD', localSymbol='NQM4', tradingClass='NQ')\n",
      "Error 1102, reqId -1: Connectivity between IB and Trader Workstation has been restored - data maintained. The following farms are connected: usfuture; usfarm; secdefil. The following farms are not connected: ushmds.\n",
      "Error 317, reqId 6: Market depth data has been RESET. Please empty deep book contents before applying any new entries., contract: Contract(secType='FUT', conId=620730920, symbol='NQ', lastTradeDateOrContractMonth='20240621', multiplier='20', exchange='CME', currency='USD', localSymbol='NQM4', tradingClass='NQ')\n",
      "Peer closed connection.\n"
     ]
    }
   ],
   "source": [
    "from ib_async import *\n",
    "\n",
    "util.startLoop()\n",
    "\n",
    "ib = IB()\n",
    "ib.connect(\"127.0.0.1\", 4001, clientId=15)"
   ]
  },
  {
   "cell_type": "code",
   "execution_count": 2,
   "metadata": {},
   "outputs": [],
   "source": [
    "contract = Contract(conId=620730920)\n",
    "ib.qualifyContracts(contract)\n",
    "ticker = ib.reqMktDepth(contract)"
   ]
  },
  {
   "cell_type": "code",
   "execution_count": 3,
   "metadata": {},
   "outputs": [],
   "source": [
    "from IPython.display import display, clear_output\n",
    "import pandas as pd"
   ]
  },
  {
   "cell_type": "code",
   "execution_count": 42,
   "metadata": {},
   "outputs": [
    {
     "data": {
      "text/plain": [
       "'NQM4'"
      ]
     },
     "execution_count": 42,
     "metadata": {},
     "output_type": "execute_result"
    }
   ],
   "source": [
    "positions[0].contract.localSymbol"
   ]
  },
  {
   "cell_type": "code",
   "execution_count": 6,
   "metadata": {},
   "outputs": [
    {
     "data": {
      "text/html": [
       "<div>\n",
       "<style scoped>\n",
       "    .dataframe tbody tr th:only-of-type {\n",
       "        vertical-align: middle;\n",
       "    }\n",
       "\n",
       "    .dataframe tbody tr th {\n",
       "        vertical-align: top;\n",
       "    }\n",
       "\n",
       "    .dataframe thead th {\n",
       "        text-align: right;\n",
       "    }\n",
       "</style>\n",
       "<table border=\"1\" class=\"dataframe\">\n",
       "  <thead>\n",
       "    <tr style=\"text-align: right;\">\n",
       "      <th></th>\n",
       "      <th>Account</th>\n",
       "      <th>Position</th>\n",
       "      <th>AvgCost</th>\n",
       "    </tr>\n",
       "    <tr>\n",
       "      <th>LocalSymbol</th>\n",
       "      <th></th>\n",
       "      <th></th>\n",
       "      <th></th>\n",
       "    </tr>\n",
       "  </thead>\n",
       "  <tbody>\n",
       "    <tr>\n",
       "      <th>HYG   240621P00073000</th>\n",
       "      <td>U10394496</td>\n",
       "      <td>50.0</td>\n",
       "      <td>12.446850</td>\n",
       "    </tr>\n",
       "    <tr>\n",
       "      <th>AAPL  241018P00150000</th>\n",
       "      <td>U10394496</td>\n",
       "      <td>2.0</td>\n",
       "      <td>244.696850</td>\n",
       "    </tr>\n",
       "    <tr>\n",
       "      <th>NVDA  240719P00555000</th>\n",
       "      <td>U10394496</td>\n",
       "      <td>1.0</td>\n",
       "      <td>493.049400</td>\n",
       "    </tr>\n",
       "    <tr>\n",
       "      <th>LLY   240816P00620000</th>\n",
       "      <td>U10394496</td>\n",
       "      <td>1.0</td>\n",
       "      <td>481.046900</td>\n",
       "    </tr>\n",
       "    <tr>\n",
       "      <th>GOOGL 240920P00120000</th>\n",
       "      <td>U10394496</td>\n",
       "      <td>10.0</td>\n",
       "      <td>51.446850</td>\n",
       "    </tr>\n",
       "    <tr>\n",
       "      <th>NQM4</th>\n",
       "      <td>U10394496</td>\n",
       "      <td>-2.0</td>\n",
       "      <td>349960.446576</td>\n",
       "    </tr>\n",
       "    <tr>\n",
       "      <th>QQQ   240607P00400000</th>\n",
       "      <td>U10394496</td>\n",
       "      <td>2.0</td>\n",
       "      <td>207.696850</td>\n",
       "    </tr>\n",
       "  </tbody>\n",
       "</table>\n",
       "</div>"
      ],
      "text/plain": [
       "                         Account  Position        AvgCost\n",
       "LocalSymbol                                              \n",
       "HYG   240621P00073000  U10394496      50.0      12.446850\n",
       "AAPL  241018P00150000  U10394496       2.0     244.696850\n",
       "NVDA  240719P00555000  U10394496       1.0     493.049400\n",
       "LLY   240816P00620000  U10394496       1.0     481.046900\n",
       "GOOGL 240920P00120000  U10394496      10.0      51.446850\n",
       "NQM4                   U10394496      -2.0  349960.446576\n",
       "QQQ   240607P00400000  U10394496       2.0     207.696850"
      ]
     },
     "metadata": {},
     "output_type": "display_data"
    }
   ],
   "source": [
    "positions = ib.positions(account=\"U10394496\")\n",
    "\n",
    "columns = [\"Account\", \"LocalSymbol\", \"Position\", \"AvgCost\"]\n",
    "df = pd.DataFrame(columns=columns)\n",
    "rows = []\n",
    "\n",
    "for pos in positions:\n",
    "    new_row = {\n",
    "        \"Account\": pos.account,\n",
    "        \"LocalSymbol\": pos.contract.localSymbol,\n",
    "        \"Position\": pos.position,\n",
    "        \"AvgCost\": pos.avgCost,\n",
    "    }\n",
    "    rows.append(new_row)\n",
    "\n",
    "df = pd.DataFrame(rows, columns=columns)\n",
    "df.set_index(\"LocalSymbol\", inplace=True)\n",
    "\n",
    "display(df)"
   ]
  },
  {
   "cell_type": "code",
   "execution_count": 7,
   "metadata": {},
   "outputs": [
    {
     "name": "stdout",
     "output_type": "stream",
     "text": [
      "id\t\taction\tlmtPrice\tfillQty\ttotalQty\n",
      "1939819052\tBUY\t17525.0\t0.0\t1.0\n",
      "1939819053\tBUY\t17524.25\t0.0\t1.0\n",
      "1939819054\tBUY\t17524.0\t0.0\t1.0\n",
      "1939819055\tBUY\t17522.75\t0.0\t1.0\n",
      "1939819056\tBUY\t17522.5\t0.0\t1.0\n",
      "1939819057\tBUY\t17524.5\t0.0\t1.0\n",
      "1939819058\tBUY\t17523.25\t0.0\t1.0\n",
      "1939819059\tBUY\t17524.75\t0.0\t1.0\n",
      "1939819060\tBUY\t17524.0\t0.0\t1.0\n",
      "1939819061\tBUY\t17522.0\t0.0\t1.0\n",
      "1939819062\tBUY\t17521.75\t0.0\t1.0\n",
      "1939819063\tBUY\t17521.25\t0.0\t1.0\n",
      "1939819064\tBUY\t17521.75\t0.0\t1.0\n",
      "1939819065\tBUY\t17522.0\t0.0\t1.0\n",
      "1939819066\tBUY\t17522.0\t0.0\t1.0\n",
      "1939819067\tBUY\t17521.0\t1.0\t0.0\n",
      "1939819068\tSELL\t17523.5\t1.0\t0.0\n",
      "1939819069\tBUY\t17521.0\t0.0\t1.0\n",
      "1939819070\tBUY\t17521.0\t0.0\t1.0\n",
      "1939819071\tBUY\t17519.75\t0.0\t1.0\n",
      "1939819072\tBUY\t17520.75\t0.0\t1.0\n",
      "1939819073\tBUY\t17519.0\t0.0\t1.0\n",
      "1939819074\tBUY\t17517.0\t1.0\t0.0\n",
      "1939819076\tSELL\t17481.5\t0.0\t1.0\n",
      "1939819077\tSELL\t17479.75\t1.0\t0.0\n",
      "1939819078\tBUY\t17477.25\t1.0\t0.0\n",
      "1939819079\tSELL\t17480.0\t0.0\t1.0\n",
      "1939819080\tSELL\t17478.5\t1.0\t0.0\n"
     ]
    }
   ],
   "source": [
    "# Filter orders with filledQuantity equal to 0.0\n",
    "unfilled_orders = [\n",
    "    order for order in ib.orders()  # if order.filledQuantity != order.totalQuantity\n",
    "]\n",
    "\n",
    "# order by permId\n",
    "unfilled_orders.sort(key=lambda x: x.permId)\n",
    "\n",
    "# Iterate over the filtered list and print details\n",
    "print(f\"id\\t\\taction\\tlmtPrice\\tfillQty\\ttotalQty\")\n",
    "for order in unfilled_orders:\n",
    "\n",
    "    print(\n",
    "        f\"{order.permId}\\t{order.action}\\t{order.lmtPrice}\\t{order.filledQuantity}\\t{order.totalQuantity}\\t{order.st}\"\n",
    "    )\n",
    "    # print(order)"
   ]
  },
  {
   "cell_type": "code",
   "execution_count": 11,
   "metadata": {},
   "outputs": [
    {
     "ename": "TypeError",
     "evalue": "IB.reqCompletedOrders() missing 1 required positional argument: 'apiOnly'",
     "output_type": "error",
     "traceback": [
      "\u001b[0;31m---------------------------------------------------------------------------\u001b[0m",
      "\u001b[0;31mTypeError\u001b[0m                                 Traceback (most recent call last)",
      "Cell \u001b[0;32mIn[11], line 1\u001b[0m\n\u001b[0;32m----> 1\u001b[0m \u001b[43mib\u001b[49m\u001b[38;5;241;43m.\u001b[39;49m\u001b[43mreqCompletedOrders\u001b[49m\u001b[43m(\u001b[49m\u001b[43m)\u001b[49m\n",
      "\u001b[0;31mTypeError\u001b[0m: IB.reqCompletedOrders() missing 1 required positional argument: 'apiOnly'"
     ]
    }
   ],
   "source": [
    "ib.reqCompletedOrders()"
   ]
  },
  {
   "cell_type": "code",
   "execution_count": 64,
   "metadata": {},
   "outputs": [
    {
     "data": {
      "text/plain": [
       "Order(permId=827631043, action='BUY', totalQuantity=1.0, orderType='LMT', lmtPrice=17248.0, auxPrice=0.0, tif='GTC', ocaType=3, orderRef='cLnpF0mGeHCl', displaySize=2147483647, rule80A='0', openClose='', volatilityType=0, deltaNeutralOrderType='None', referencePriceType=0, account='U10394496', clearingIntent='IB', cashQty=0.0, dontUseAutoPriceForHedge=True, autoCancelDate='20240930 17:00:00 Central Standard Time', filledQuantity=0.0, refFuturesConId=2147483647, shareholder='Not an insider or substantial shareholder')"
      ]
     },
     "execution_count": 64,
     "metadata": {},
     "output_type": "execute_result"
    }
   ],
   "source": [
    "orders = ib.orders()\n",
    "orders[0]"
   ]
  },
  {
   "cell_type": "code",
   "execution_count": 53,
   "metadata": {},
   "outputs": [
    {
     "ename": "AttributeError",
     "evalue": "'list' object has no attribute 'updateEvent'",
     "output_type": "error",
     "traceback": [
      "\u001b[0;31m---------------------------------------------------------------------------\u001b[0m",
      "\u001b[0;31mAttributeError\u001b[0m                            Traceback (most recent call last)",
      "Cell \u001b[0;32mIn[53], line 2\u001b[0m\n\u001b[1;32m      1\u001b[0m orders \u001b[38;5;241m=\u001b[39m ib\u001b[38;5;241m.\u001b[39morders()\n\u001b[0;32m----> 2\u001b[0m \u001b[43morders\u001b[49m\u001b[38;5;241;43m.\u001b[39;49m\u001b[43mupdateEvent\u001b[49m \u001b[38;5;241m+\u001b[39m\u001b[38;5;241m=\u001b[39m \u001b[38;5;28;01mlambda\u001b[39;00m: \u001b[38;5;28mprint\u001b[39m(\u001b[38;5;124m\"\u001b[39m\u001b[38;5;124mOrders updated\u001b[39m\u001b[38;5;124m\"\u001b[39m)\n",
      "\u001b[0;31mAttributeError\u001b[0m: 'list' object has no attribute 'updateEvent'"
     ]
    }
   ],
   "source": [
    "limitOrder = LimitOrder(\"BUY\", 20000, 0.05)\n",
    "limitTrade = ib.placeOrder(contract, limitOrder)\n",
    "\n",
    "limitTrade"
   ]
  },
  {
   "cell_type": "code",
   "execution_count": 14,
   "metadata": {},
   "outputs": [
    {
     "name": "stdout",
     "output_type": "stream",
     "text": [
      "current: 4.0, target: 5\n"
     ]
    }
   ],
   "source": [
    "# long scalp strategy\n",
    "placed = False\n",
    "target_pos = 5\n",
    "for pos in positions:\n",
    "    if pos.contract.conId == contract.conId:\n",
    "        print(f\"position: {pos.position}, target: {target_pos}\")\n",
    "        if placed == False and pos.position < target_pos:\n",
    "            ib.placeOrder(contract, Order(action=\"BUY\", totalQuantity=1, orderType=\"MKT\"))"
   ]
  },
  {
   "cell_type": "markdown",
   "metadata": {},
   "source": [
    "### Streaming tick data\n",
    "\n",
    "Create some Forex contracts:"
   ]
  },
  {
   "cell_type": "code",
   "execution_count": 3,
   "metadata": {},
   "outputs": [],
   "source": [
    "for contract in contracts:\n",
    "    ib.reqMktData(contract, '', False, False)"
   ]
  },
  {
   "cell_type": "markdown",
   "metadata": {},
   "source": [
    "Wait a few seconds for the tickers to get filled."
   ]
  },
  {
   "cell_type": "code",
   "execution_count": 4,
   "metadata": {},
   "outputs": [
    {
     "data": {
      "text/plain": [
       "Ticker(contract=Forex('EURUSD', conId=12087792, exchange='IDEALPRO', localSymbol='EUR.USD', tradingClass='EUR.USD'), time=datetime.datetime(2019, 12, 31, 17, 5, 2, 127038, tzinfo=datetime.timezone.utc), bid=1.12245, bidSize=10700000, ask=1.1225, askSize=2000000, high=1.1239, low=1.11985, close=1.12, halted=0.0)"
      ]
     },
     "execution_count": 4,
     "metadata": {},
     "output_type": "execute_result"
    }
   ],
   "source": [
    "ticker = ib.ticker(eurusd)\n",
    "ib.sleep(2)\n",
    "\n",
    "ticker"
   ]
  },
  {
   "cell_type": "markdown",
   "metadata": {},
   "source": [
    "The price of Forex ticks is always nan. To get a midpoint price use ``midpoint()`` or ``marketPrice()``.\n",
    "\n",
    "The tickers are kept live updated, try this a few times to see if the price changes:"
   ]
  },
  {
   "cell_type": "code",
   "execution_count": 5,
   "metadata": {},
   "outputs": [
    {
     "data": {
      "text/plain": [
       "1.1224750000000001"
      ]
     },
     "execution_count": 5,
     "metadata": {},
     "output_type": "execute_result"
    }
   ],
   "source": [
    "ticker.marketPrice()"
   ]
  },
  {
   "cell_type": "markdown",
   "metadata": {},
   "source": [
    "The following cell will start a 30 second loop that prints a live updated ticker table.\n",
    "It is updated on every ticker change."
   ]
  },
  {
   "cell_type": "code",
   "execution_count": 6,
   "metadata": {},
   "outputs": [
    {
     "data": {
      "text/html": [
       "<div>\n",
       "<style scoped>\n",
       "    .dataframe tbody tr th:only-of-type {\n",
       "        vertical-align: middle;\n",
       "    }\n",
       "\n",
       "    .dataframe tbody tr th {\n",
       "        vertical-align: top;\n",
       "    }\n",
       "\n",
       "    .dataframe thead th {\n",
       "        text-align: right;\n",
       "    }\n",
       "</style>\n",
       "<table border=\"1\" class=\"dataframe\">\n",
       "  <thead>\n",
       "    <tr style=\"text-align: right;\">\n",
       "      <th></th>\n",
       "      <th>bidSize</th>\n",
       "      <th>bid</th>\n",
       "      <th>ask</th>\n",
       "      <th>askSize</th>\n",
       "      <th>high</th>\n",
       "      <th>low</th>\n",
       "      <th>close</th>\n",
       "    </tr>\n",
       "  </thead>\n",
       "  <tbody>\n",
       "    <tr>\n",
       "      <th>EURUSD</th>\n",
       "      <td>11500000</td>\n",
       "      <td>1.1225</td>\n",
       "      <td>1.12255</td>\n",
       "      <td>1000000</td>\n",
       "      <td>1.1239</td>\n",
       "      <td>1.11985</td>\n",
       "      <td>1.12</td>\n",
       "    </tr>\n",
       "    <tr>\n",
       "      <th>USDJPY</th>\n",
       "      <td>8000000</td>\n",
       "      <td>108.665</td>\n",
       "      <td>108.675</td>\n",
       "      <td>16000000</td>\n",
       "      <td>108.885</td>\n",
       "      <td>108.475</td>\n",
       "      <td>108.87</td>\n",
       "    </tr>\n",
       "    <tr>\n",
       "      <th>GBPUSD</th>\n",
       "      <td>6000000</td>\n",
       "      <td>1.327</td>\n",
       "      <td>1.3271</td>\n",
       "      <td>500000</td>\n",
       "      <td>1.32845</td>\n",
       "      <td>1.3106</td>\n",
       "      <td>1.3111</td>\n",
       "    </tr>\n",
       "    <tr>\n",
       "      <th>USDCHF</th>\n",
       "      <td>10000000</td>\n",
       "      <td>0.9677</td>\n",
       "      <td>0.9678</td>\n",
       "      <td>7000000</td>\n",
       "      <td>0.9698</td>\n",
       "      <td>0.96465</td>\n",
       "      <td>0.96935</td>\n",
       "    </tr>\n",
       "    <tr>\n",
       "      <th>USDCAD</th>\n",
       "      <td>1000000</td>\n",
       "      <td>1.2966</td>\n",
       "      <td>1.29665</td>\n",
       "      <td>2000000</td>\n",
       "      <td>1.30695</td>\n",
       "      <td>1.29515</td>\n",
       "      <td>1.3068</td>\n",
       "    </tr>\n",
       "    <tr>\n",
       "      <th>AUDUSD</th>\n",
       "      <td>9500000</td>\n",
       "      <td>0.70305</td>\n",
       "      <td>0.7031</td>\n",
       "      <td>1000000</td>\n",
       "      <td>0.70325</td>\n",
       "      <td>0.69945</td>\n",
       "      <td>0.6995</td>\n",
       "    </tr>\n",
       "  </tbody>\n",
       "</table>\n",
       "</div>"
      ],
      "text/plain": [
       "         bidSize      bid      ask   askSize     high      low    close\n",
       "EURUSD  11500000   1.1225  1.12255   1000000   1.1239  1.11985     1.12\n",
       "USDJPY   8000000  108.665  108.675  16000000  108.885  108.475   108.87\n",
       "GBPUSD   6000000    1.327   1.3271    500000  1.32845   1.3106   1.3111\n",
       "USDCHF  10000000   0.9677   0.9678   7000000   0.9698  0.96465  0.96935\n",
       "USDCAD   1000000   1.2966  1.29665   2000000  1.30695  1.29515   1.3068\n",
       "AUDUSD   9500000  0.70305   0.7031   1000000  0.70325  0.69945   0.6995"
      ]
     },
     "metadata": {},
     "output_type": "display_data"
    }
   ],
   "source": [
    "from IPython.display import display, clear_output\n",
    "import pandas as pd\n",
    "\n",
    "df = pd.DataFrame(\n",
    "    index=[c.pair() for c in contracts],\n",
    "    columns=['bidSize', 'bid', 'ask', 'askSize', 'high', 'low', 'close'])\n",
    "\n",
    "def onPendingTickers(tickers):\n",
    "    for t in tickers:\n",
    "        df.loc[t.contract.pair()] = (\n",
    "            t.bidSize, t.bid, t.ask, t.askSize, t.high, t.low, t.close)\n",
    "        clear_output(wait=True)\n",
    "    display(df)        \n",
    "\n",
    "ib.pendingTickersEvent += onPendingTickers\n",
    "ib.sleep(30)\n",
    "ib.pendingTickersEvent -= onPendingTickers"
   ]
  },
  {
   "cell_type": "markdown",
   "metadata": {},
   "source": [
    "New tick data is available in the 'ticks' attribute of the pending tickers.\n",
    "The tick data will be cleared before the next update."
   ]
  },
  {
   "cell_type": "markdown",
   "metadata": {},
   "source": [
    "To stop the live tick subscriptions:"
   ]
  },
  {
   "cell_type": "code",
   "execution_count": 7,
   "metadata": {},
   "outputs": [],
   "source": [
    "for contract in contracts:\n",
    "    ib.cancelMktData(contract)"
   ]
  },
  {
   "cell_type": "markdown",
   "metadata": {},
   "source": [
    "### Tick by Tick data ###\n",
    "\n",
    "The ticks in the previous section are time-sampled by IB in order to cut on bandwidth. So with ``reqMktdData`` not every tick from the exchanges is sent. The promise of ``reqTickByTickData`` is to send every tick, just how it appears in the TWS Time & Sales window. This functionality is severly nerfed by a total of just three simultaneous subscriptions, where bid-ask ticks and sale ticks also use up a subscription each.\n",
    "\n",
    "The tick-by-tick updates are available from ``ticker.tickByTicks`` and are signalled by ``ib.pendingTickersEvent`` or ``ticker.updateEvent``."
   ]
  },
  {
   "cell_type": "code",
   "execution_count": 8,
   "metadata": {},
   "outputs": [
    {
     "name": "stdout",
     "output_type": "stream",
     "text": [
      "Ticker(contract=Forex('EURUSD', conId=12087792, exchange='IDEALPRO', localSymbol='EUR.USD', tradingClass='EUR.USD'), time=datetime.datetime(2019, 12, 31, 17, 5, 35, 432737, tzinfo=datetime.timezone.utc), bid=1.1225, bidSize=11000000, ask=1.1226, askSize=11500000, prevBid=1.12255, prevBidSize=11500000, prevAsk=1.12255, prevAskSize=1000000, high=1.1239, low=1.11985, close=1.12, halted=0.0, tickByTicks=[TickByTickBidAsk(time=datetime.datetime(2019, 12, 31, 17, 5, 35, 432737, tzinfo=datetime.timezone.utc), bidPrice=1.1225, askPrice=1.12255, bidSize=11500000, askSize=1000000, tickAttribBidAsk=TickAttribBidAsk(bidPastLow=False, askPastHigh=False)), TickByTickBidAsk(time=datetime.datetime(2019, 12, 31, 17, 5, 35, 432737, tzinfo=datetime.timezone.utc), bidPrice=1.1225, askPrice=1.12255, bidSize=11000000, askSize=1000000, tickAttribBidAsk=TickAttribBidAsk(bidPastLow=False, askPastHigh=False)), TickByTickBidAsk(time=datetime.datetime(2019, 12, 31, 17, 5, 35, 432737, tzinfo=datetime.timezone.utc), bidPrice=1.1225, askPrice=1.1226, bidSize=11000000, askSize=11500000, tickAttribBidAsk=TickAttribBidAsk(bidPastLow=False, askPastHigh=False))])\n"
     ]
    }
   ],
   "source": [
    "ticker = ib.reqTickByTickData(eurusd, 'BidAsk')\n",
    "ib.sleep(2)\n",
    "print(ticker)\n",
    "\n",
    "ib.cancelTickByTickData(ticker.contract, 'BidAsk')"
   ]
  },
  {
   "cell_type": "markdown",
   "metadata": {},
   "source": [
    "### Historical tick data\n",
    "\n",
    "Historical tick data can be fetched with a maximum of 1000 ticks at a time. Either the start time or the end time must be given, and one of them must remain empty:"
   ]
  },
  {
   "cell_type": "code",
   "execution_count": 9,
   "metadata": {},
   "outputs": [
    {
     "data": {
      "text/plain": [
       "HistoricalTickBidAsk(time=datetime.datetime(2019, 12, 31, 17, 5, 34, tzinfo=datetime.timezone.utc), tickAttribBidAsk=TickAttribBidAsk(bidPastLow=False, askPastHigh=False), priceBid=1.1225, priceAsk=1.1226, sizeBid=11000000, sizeAsk=11500000)"
      ]
     },
     "execution_count": 9,
     "metadata": {},
     "output_type": "execute_result"
    }
   ],
   "source": [
    "import datetime\n",
    "\n",
    "start = ''\n",
    "end = datetime.datetime.now()\n",
    "ticks = ib.reqHistoricalTicks(eurusd, start, end, 1000, 'BID_ASK', useRth=False)\n",
    "\n",
    "ticks[-1]"
   ]
  },
  {
   "cell_type": "code",
   "execution_count": 10,
   "metadata": {},
   "outputs": [],
   "source": [
    "ib.disconnect()"
   ]
  }
 ],
 "metadata": {
  "kernelspec": {
   "display_name": "Python 3",
   "language": "python",
   "name": "python3"
  },
  "language_info": {
   "codemirror_mode": {
    "name": "ipython",
    "version": 3
   },
   "file_extension": ".py",
   "mimetype": "text/x-python",
   "name": "python",
   "nbconvert_exporter": "python",
   "pygments_lexer": "ipython3",
   "version": "3.12.2"
  }
 },
 "nbformat": 4,
 "nbformat_minor": 4
}
